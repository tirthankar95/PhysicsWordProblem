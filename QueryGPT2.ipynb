{
 "cells": [
  {
   "cell_type": "code",
   "execution_count": 2,
   "metadata": {},
   "outputs": [
    {
     "name": "stderr",
     "output_type": "stream",
     "text": [
      "/home/tirthankar-mittra/ai_ml/lib/python3.12/site-packages/tqdm/auto.py:21: TqdmWarning: IProgress not found. Please update jupyter and ipywidgets. See https://ipywidgets.readthedocs.io/en/stable/user_install.html\n",
      "  from .autonotebook import tqdm as notebook_tqdm\n",
      "Truncation was not explicitly activated but `max_length` is provided a specific value, please use `truncation=True` to explicitly truncate examples to max length. Defaulting to 'longest_first' truncation strategy. If you encode pairs of sequences (GLUE-style) with the tokenizer you can select this strategy more precisely by providing a specific strategy to `truncation`.\n"
     ]
    },
    {
     "data": {
      "text/plain": [
       "[{'generated_text': 'Generate a physics question on kinematics: what is the best framebuffer? Does it not make sense to simulate this in Kinematic? What are the possible ways to control kinematics? Are there any advantages to using this framework? Can we extend it to create a more'},\n",
       " {'generated_text': 'Generate a physics question on kinematics to a question on physics and then use the following method to generate a motion with the particle system.\\n\\nclass Motion { double x = 10; double y = 10; double speed = 1000000; } class Physics { double x = 11'},\n",
       " {'generated_text': 'Generate a physics question on kinematics\\n\\nYou should get a couple of questions from other developers. Which is better?\\n\\nGo into it with some knowledge.\\n\\nWhat does the game take us from the player to the viewer?\\n\\nThis will save you a lot'},\n",
       " {'generated_text': 'Generate a physics question on kinematics, one way i can easily show you the steps, a simple example: calculate the rate of velocity (i.e. how much speed you can take in a physics step) and speed the velocity change (i.e. how much you'},\n",
       " {'generated_text': \"Generate a physics question on kinematics. I used to go in and try to show off a particular example, and he asked me to do it because he had an idea of what kind of weapon that I'd need. (What kind of weapon?) I asked him, 'Is\"}]"
      ]
     },
     "execution_count": 2,
     "metadata": {},
     "output_type": "execute_result"
    }
   ],
   "source": [
    "import torch\n",
    "\n",
    "from transformers import pipeline, set_seed\n",
    "from transformers import GPT2Tokenizer, GPT2Config, GPT2LMHeadModel\n",
    "set_seed(42)\n",
    "local_dir = \"FINE_TUNE_GPT2/save_model\"\n",
    "\n",
    "\n",
    "generator = pipeline('text-generation', model=f'{local_dir}')\n",
    "generator(\"Generate a physics question on kinematics\", \\\n",
    "           max_length=58, num_return_sequences=5)"
   ]
  },
  {
   "cell_type": "code",
   "execution_count": 1,
   "metadata": {},
   "outputs": [],
   "source": [
    "#         final_prompt = \"\"\"Give me a physics question using the following variables and words.\n",
    "\n",
    "#  In a cave, person, ball, rock, cave length = 1271 m. displacement = 47 m, time = 62 s, final velocity = 53 m/s, force = 80 N, initial velocity = unknown, acceleration = unknown, mass = unknown.\n",
    "# \"\"\""
   ]
  }
 ],
 "metadata": {
  "kernelspec": {
   "display_name": "base",
   "language": "python",
   "name": "python3"
  },
  "language_info": {
   "codemirror_mode": {
    "name": "ipython",
    "version": 3
   },
   "file_extension": ".py",
   "mimetype": "text/x-python",
   "name": "python",
   "nbconvert_exporter": "python",
   "pygments_lexer": "ipython3",
   "version": "3.9.7"
  }
 },
 "nbformat": 4,
 "nbformat_minor": 2
}
